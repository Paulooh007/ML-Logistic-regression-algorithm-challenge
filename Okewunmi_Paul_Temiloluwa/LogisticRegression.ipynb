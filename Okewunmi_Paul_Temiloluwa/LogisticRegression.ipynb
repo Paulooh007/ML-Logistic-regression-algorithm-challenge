{
 "cells": [
  {
   "cell_type": "code",
   "execution_count": 1,
   "metadata": {},
   "outputs": [],
   "source": [
    "import numpy as np\n",
    "\n",
    "\n",
    "class LogisticRegression:\n",
    "    def __init__(self, learning_rate=0.01, num_iter=100, fit_intercept=True, verbose=False):\n",
    "        self.learning_rate = learning_rate  # learning_rate of the algorithm\n",
    "        self.num_iter = num_iter  #  number of iterations of the gradient descent\n",
    "        self.fit_intercept = fit_intercept  # boolean indicating whether we`re adding base X0 feature vector or not\n",
    "        self.verbose = verbose  \n",
    "\n",
    "    def _add_intercept(self, X):\n",
    "        intercept = np.ones((X.shape[0], 1))  #  creating X0 features vector(M x 1)\n",
    "        return np.concatenate((intercept, X), axis=1)  # concatenating X0 features vector with our features making intercept\n",
    "\n",
    "    def _sigmoid(self, z):\n",
    "        '''Defines our \"sigmoid\" function based on which we make predictions\n",
    "           parameters:\n",
    "              z - product of the out feature matix and weights\n",
    "           return:\n",
    "              probability of the attachment to class\n",
    "        '''\n",
    "\n",
    "        return 1 / (1 + np.exp(-z))\n",
    "\n",
    "    def _loss(self, h, y):\n",
    "        '''\n",
    "        Functions have parameters or weights and we want to find the best values for them.\n",
    "        To start we pick random values and we need a way to measure how well the algorithm performs using those random weights.\n",
    "        That measure is computed using the loss function\n",
    "        '''\n",
    "\n",
    "        return (-y * np.log(h) - (1 - y) * np.log(1 - h)).mean()\n",
    "\n",
    "    def train(self, X, y):\n",
    "        '''\n",
    "        Function for training the algorithm.\n",
    "            parameters:\n",
    "              X - input data matrix (all our features without target variable)\n",
    "              y - target variable vector (1/0)\n",
    "            \n",
    "            return:\n",
    "              None\n",
    "        '''\n",
    "\n",
    "        if self.fit_intercept:\n",
    "            X = self._add_intercept(X)  # X will get a result with \"zero\" feature\n",
    "\n",
    "        self._weights = np.zeros(X.shape[1])  #  inicializing our weights vector filled with zeros\n",
    "        \n",
    "        for i in range(self.num_iter):  # implementing Gradient Descent algorithm\n",
    "            z = np.dot(X, self._weights)  #  calculate the product of the weights and feature matrix\n",
    "            h = self._sigmoid(z)\n",
    "            gradient = np.dot(X.T, (h - y)) / y.size\n",
    "            self._weights -= self.learning_rate * gradient\n",
    "            \n",
    "            if (self.verbose == True and i % 10000 == 0):\n",
    "                z = np.dot(X, self._weights)\n",
    "                h = self._sigmoid(z)\n",
    "                print(f'loss: {self._loss(h, y)} \\t')\n",
    "\n",
    "    def predict_prob(self, X):  #get probabilties\n",
    "        if self.fit_intercept:\n",
    "            X = self._add_intercept(X)\n",
    "    \n",
    "        return self._sigmoid(np.dot(X, self._weights))\n",
    "    \n",
    "    def predict(self, X, threshold): #get discrete values (0/1)\n",
    "        return self.predict_prob(X) >= threshold\n",
    "\n",
    "\n",
    "\n"
   ]
  },
  {
   "cell_type": "markdown",
   "metadata": {},
   "source": [
    "## Testing Algorithm"
   ]
  },
  {
   "cell_type": "code",
   "execution_count": 2,
   "metadata": {},
   "outputs": [],
   "source": [
    "import matplotlib.pyplot as plt\n",
    "from sklearn.model_selection import train_test_split\n",
    "from sklearn.metrics import accuracy_score, roc_auc_score, classification_report, confusion_matrix\n",
    "from sklearn.datasets import load_breast_cancer\n",
    "%matplotlib inline"
   ]
  },
  {
   "cell_type": "code",
   "execution_count": 3,
   "metadata": {},
   "outputs": [],
   "source": [
    "X, y = load_breast_cancer(return_X_y=True)  # load the dataset"
   ]
  },
  {
   "cell_type": "code",
   "execution_count": 4,
   "metadata": {},
   "outputs": [],
   "source": [
    "X_train, X_test, y_train, y_test = train_test_split(X, y, test_size = 0.20, random_state = 42)  # split the dataset"
   ]
  },
  {
   "cell_type": "code",
   "execution_count": 6,
   "metadata": {},
   "outputs": [],
   "source": [
    "# Create an instance of the LogisticRegression class\n",
    "lr = LogisticRegression(learning_rate=0.1, num_iter=200000)  "
   ]
  },
  {
   "cell_type": "code",
   "execution_count": 7,
   "metadata": {},
   "outputs": [],
   "source": [
    "# Train the model\n",
    "lr.train(X_train, y_train)"
   ]
  },
  {
   "cell_type": "code",
   "execution_count": 8,
   "metadata": {},
   "outputs": [],
   "source": [
    "y_pred = lr.predict(X_test, threshold=0.5)\n",
    "y_pred_proba = lr.predict_prob(X_test)"
   ]
  },
  {
   "cell_type": "code",
   "execution_count": 9,
   "metadata": {},
   "outputs": [
    {
     "data": {
      "text/plain": [
       "0.9620045856534557"
      ]
     },
     "execution_count": 9,
     "metadata": {},
     "output_type": "execute_result"
    }
   ],
   "source": [
    "roc_auc_score(y_test, y_pred_proba)"
   ]
  },
  {
   "cell_type": "code",
   "execution_count": 10,
   "metadata": {},
   "outputs": [
    {
     "data": {
      "text/plain": [
       "0.9649122807017544"
      ]
     },
     "execution_count": 10,
     "metadata": {},
     "output_type": "execute_result"
    }
   ],
   "source": [
    "accuracy_score(y_test, y_pred)"
   ]
  },
  {
   "cell_type": "code",
   "execution_count": 11,
   "metadata": {},
   "outputs": [
    {
     "name": "stdout",
     "output_type": "stream",
     "text": [
      "              precision    recall  f1-score   support\n",
      "\n",
      "       False       0.95      0.95      0.95        43\n",
      "        True       0.97      0.97      0.97        71\n",
      "\n",
      "    accuracy                           0.96       114\n",
      "   macro avg       0.96      0.96      0.96       114\n",
      "weighted avg       0.96      0.96      0.96       114\n",
      "\n"
     ]
    }
   ],
   "source": [
    "print(classification_report(y_pred, y_test))"
   ]
  },
  {
   "cell_type": "code",
   "execution_count": 12,
   "metadata": {},
   "outputs": [
    {
     "data": {
      "text/plain": [
       "<matplotlib.axes._subplots.AxesSubplot at 0x4e9b923e80>"
      ]
     },
     "execution_count": 12,
     "metadata": {},
     "output_type": "execute_result"
    },
    {
     "data": {
      "image/png": "[encoded data removed]",
      "text/plain": [
       "<Figure size 432x288 with 2 Axes>"
      ]
     },
     "metadata": {
      "needs_background": "light"
     },
     "output_type": "display_data"
    }
   ],
   "source": [
    "cf_matrix = confusion_matrix(y_test, y_pred)\n",
    "\n",
    "import seaborn as sns\n",
    "sns.heatmap(cf_matrix, annot=True)"
   ]
  },
  {
   "cell_type": "markdown",
   "metadata": {},
   "source": [
    "### Manually tweaking the Learning rate and number of iterations will give better result"
   ]
  },
  {
   "cell_type": "code",
   "execution_count": null,
   "metadata": {},
   "outputs": [],
   "source": []
  }
 ],
 "metadata": {
  "kernelspec": {
   "display_name": "Python 3",
   "language": "python",
   "name": "python3"
  },
  "language_info": {
   "codemirror_mode": {
    "name": "ipython",
    "version": 3
   },
   "file_extension": ".py",
   "mimetype": "text/x-python",
   "name": "python",
   "nbconvert_exporter": "python",
   "pygments_lexer": "ipython3",
   "version": "3.6.8"
  }
 },
 "nbformat": 4,
 "nbformat_minor": 2
}
